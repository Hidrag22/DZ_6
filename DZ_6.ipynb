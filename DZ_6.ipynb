{
 "cells": [
  {
   "cell_type": "code",
   "execution_count": 1,
   "metadata": {},
   "outputs": [],
   "source": [
    "#ЗАДАНИЕ 1\n",
    "\n",
    "#Библиотека для чтоения файлов в формате json\n",
    "import json\n",
    "\n",
    "#Словарь для записи результатов\n",
    "purchases = {}\n",
    "\n",
    "#Открываем файл для чтения\n",
    "purchase_log = open('purchase_log.txt', 'r', encoding = 'utf-8')\n",
    "#Перебираем построчно и переводим json в словарь\n",
    "for line in purchase_log:\n",
    "    line = json.loads(line)\n",
    "    purchases[line['user_id']] = line['category']\n",
    "\n",
    "#Закрываем исходный файл    \n",
    "purchase_log.close()"
   ]
  },
  {
   "cell_type": "code",
   "execution_count": 16,
   "metadata": {},
   "outputs": [],
   "source": [
    "#ЗАДАНИЕ 2\n",
    "\n",
    "#Открываем файл для чтения\n",
    "visit_log = open('visit_log.csv', 'r', encoding = 'utf-8')\n",
    "#Открываем файл для записи\n",
    "funnel = open('funnel.csv', 'w', encoding = 'utf-8')\n",
    "\n",
    "#Перебираем построчно и проверяем совпадение с содержимым словаря purchases\n",
    "funnel.write(visit_log.readline().strip() + ',category\\n')\n",
    "for line in visit_log:\n",
    "    line = line.strip().split(',')\n",
    "    #Если совпадение есть, то дополняем названием категории и записываем в файл\n",
    "    if line[0] in purchases:\n",
    "        line.append(purchases[line[0]])\n",
    "        funnel.write(','.join(line) + '\\n')\n",
    "\n",
    "#Закрываем файлы\n",
    "visit_log.close()    \n",
    "funnel.close()  "
   ]
  }
 ],
 "metadata": {
  "kernelspec": {
   "display_name": "Python 3",
   "language": "python",
   "name": "python3"
  },
  "language_info": {
   "codemirror_mode": {
    "name": "ipython",
    "version": 3
   },
   "file_extension": ".py",
   "mimetype": "text/x-python",
   "name": "python",
   "nbconvert_exporter": "python",
   "pygments_lexer": "ipython3",
   "version": "3.8.5"
  }
 },
 "nbformat": 4,
 "nbformat_minor": 4
}
